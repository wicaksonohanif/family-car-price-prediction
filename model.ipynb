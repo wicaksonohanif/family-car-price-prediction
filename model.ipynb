{
 "cells": [
  {
   "cell_type": "markdown",
   "id": "94e2d555-2c50-4cca-9e24-a22d34581847",
   "metadata": {},
   "source": [
    "<h1>Aplikasi Prediksi Harga Mobil Bekas Berkategori LMPV/LSUV</h1>"
   ]
  },
  {
   "cell_type": "markdown",
   "id": "db5feabd-3ae2-4c4d-8b85-b8a060471126",
   "metadata": {},
   "source": [
    "#### Impor dependensi untuk kebutuhan analisis dan pelatihan"
   ]
  },
  {
   "cell_type": "code",
   "execution_count": 1,
   "id": "17314d74-f0f5-4060-ade2-0c37e25dce37",
   "metadata": {},
   "outputs": [],
   "source": [
    "import pandas as pd\n",
    "import numpy as np\n",
    "import seaborn as sns\n",
    "import matplotlib.pyplot as plt\n",
    "\n",
    "from sklearn import metrics\n",
    "from sklearn.model_selection import train_test_split\n",
    "from sklearn.linear_model import LinearRegression"
   ]
  },
  {
   "cell_type": "markdown",
   "id": "98c9bd06-186b-403e-8064-d0cee09913b8",
   "metadata": {},
   "source": [
    "#### Pengumpulan data"
   ]
  },
  {
   "cell_type": "code",
   "execution_count": 2,
   "id": "ae833e6d-41fb-46bf-9929-f30d593be776",
   "metadata": {},
   "outputs": [],
   "source": [
    "cars_data = pd.read_csv('lmpv_dataset.csv')"
   ]
  },
  {
   "cell_type": "code",
   "execution_count": 7,
   "id": "b187fbd1-b9ad-4a4b-b19b-8cd077163268",
   "metadata": {},
   "outputs": [
    {
     "data": {
      "text/html": [
       "<div>\n",
       "<style scoped>\n",
       "    .dataframe tbody tr th:only-of-type {\n",
       "        vertical-align: middle;\n",
       "    }\n",
       "\n",
       "    .dataframe tbody tr th {\n",
       "        vertical-align: top;\n",
       "    }\n",
       "\n",
       "    .dataframe thead th {\n",
       "        text-align: right;\n",
       "    }\n",
       "</style>\n",
       "<table border=\"1\" class=\"dataframe\">\n",
       "  <thead>\n",
       "    <tr style=\"text-align: right;\">\n",
       "      <th></th>\n",
       "      <th>name</th>\n",
       "      <th>year</th>\n",
       "      <th>selling_price</th>\n",
       "      <th>km_driven</th>\n",
       "      <th>fuel</th>\n",
       "      <th>seller_type</th>\n",
       "      <th>transmission</th>\n",
       "      <th>engine</th>\n",
       "      <th>tax</th>\n",
       "    </tr>\n",
       "  </thead>\n",
       "  <tbody>\n",
       "    <tr>\n",
       "      <th>0</th>\n",
       "      <td>Avanza</td>\n",
       "      <td>2022</td>\n",
       "      <td>238600000</td>\n",
       "      <td>53000</td>\n",
       "      <td>Petrol</td>\n",
       "      <td>Dealer</td>\n",
       "      <td>AT</td>\n",
       "      <td>1500</td>\n",
       "      <td>2024</td>\n",
       "    </tr>\n",
       "    <tr>\n",
       "      <th>1</th>\n",
       "      <td>Avanza</td>\n",
       "      <td>2019</td>\n",
       "      <td>140000000</td>\n",
       "      <td>95311</td>\n",
       "      <td>Petrol</td>\n",
       "      <td>Dealer</td>\n",
       "      <td>MT</td>\n",
       "      <td>1300</td>\n",
       "      <td>2024</td>\n",
       "    </tr>\n",
       "    <tr>\n",
       "      <th>2</th>\n",
       "      <td>Avanza</td>\n",
       "      <td>2019</td>\n",
       "      <td>180000000</td>\n",
       "      <td>53454</td>\n",
       "      <td>Petrol</td>\n",
       "      <td>Dealer</td>\n",
       "      <td>MT</td>\n",
       "      <td>1500</td>\n",
       "      <td>2024</td>\n",
       "    </tr>\n",
       "    <tr>\n",
       "      <th>3</th>\n",
       "      <td>Avanza</td>\n",
       "      <td>2014</td>\n",
       "      <td>112000000</td>\n",
       "      <td>116075</td>\n",
       "      <td>Petrol</td>\n",
       "      <td>Dealer</td>\n",
       "      <td>MT</td>\n",
       "      <td>1300</td>\n",
       "      <td>2023</td>\n",
       "    </tr>\n",
       "    <tr>\n",
       "      <th>4</th>\n",
       "      <td>Avanza</td>\n",
       "      <td>2013</td>\n",
       "      <td>99000000</td>\n",
       "      <td>82500</td>\n",
       "      <td>Petrol</td>\n",
       "      <td>Dealer</td>\n",
       "      <td>AT</td>\n",
       "      <td>1300</td>\n",
       "      <td>2024</td>\n",
       "    </tr>\n",
       "    <tr>\n",
       "      <th>...</th>\n",
       "      <td>...</td>\n",
       "      <td>...</td>\n",
       "      <td>...</td>\n",
       "      <td>...</td>\n",
       "      <td>...</td>\n",
       "      <td>...</td>\n",
       "      <td>...</td>\n",
       "      <td>...</td>\n",
       "      <td>...</td>\n",
       "    </tr>\n",
       "    <tr>\n",
       "      <th>715</th>\n",
       "      <td>Livina</td>\n",
       "      <td>2014</td>\n",
       "      <td>99000000</td>\n",
       "      <td>74292</td>\n",
       "      <td>Petrol</td>\n",
       "      <td>Dealer</td>\n",
       "      <td>AT</td>\n",
       "      <td>1500</td>\n",
       "      <td>2024</td>\n",
       "    </tr>\n",
       "    <tr>\n",
       "      <th>716</th>\n",
       "      <td>Livina</td>\n",
       "      <td>2014</td>\n",
       "      <td>108000000</td>\n",
       "      <td>88696</td>\n",
       "      <td>Petrol</td>\n",
       "      <td>Dealer</td>\n",
       "      <td>AT</td>\n",
       "      <td>1500</td>\n",
       "      <td>2025</td>\n",
       "    </tr>\n",
       "    <tr>\n",
       "      <th>717</th>\n",
       "      <td>Livina</td>\n",
       "      <td>2014</td>\n",
       "      <td>99000000</td>\n",
       "      <td>74292</td>\n",
       "      <td>Petrol</td>\n",
       "      <td>Dealer</td>\n",
       "      <td>AT</td>\n",
       "      <td>1500</td>\n",
       "      <td>2024</td>\n",
       "    </tr>\n",
       "    <tr>\n",
       "      <th>718</th>\n",
       "      <td>Livina</td>\n",
       "      <td>2014</td>\n",
       "      <td>103000000</td>\n",
       "      <td>97041</td>\n",
       "      <td>Petrol</td>\n",
       "      <td>Dealer</td>\n",
       "      <td>AT</td>\n",
       "      <td>1500</td>\n",
       "      <td>2024</td>\n",
       "    </tr>\n",
       "    <tr>\n",
       "      <th>719</th>\n",
       "      <td>Livina</td>\n",
       "      <td>2014</td>\n",
       "      <td>102000000</td>\n",
       "      <td>88000</td>\n",
       "      <td>Petrol</td>\n",
       "      <td>Dealer</td>\n",
       "      <td>AT</td>\n",
       "      <td>1500</td>\n",
       "      <td>2025</td>\n",
       "    </tr>\n",
       "  </tbody>\n",
       "</table>\n",
       "<p>720 rows × 9 columns</p>\n",
       "</div>"
      ],
      "text/plain": [
       "       name  year  selling_price  km_driven    fuel seller_type transmission  \\\n",
       "0    Avanza  2022      238600000      53000  Petrol      Dealer           AT   \n",
       "1    Avanza  2019      140000000      95311  Petrol      Dealer           MT   \n",
       "2    Avanza  2019      180000000      53454  Petrol      Dealer           MT   \n",
       "3    Avanza  2014      112000000     116075  Petrol      Dealer           MT   \n",
       "4    Avanza  2013       99000000      82500  Petrol      Dealer           AT   \n",
       "..      ...   ...            ...        ...     ...         ...          ...   \n",
       "715  Livina  2014       99000000      74292  Petrol      Dealer           AT   \n",
       "716  Livina  2014      108000000      88696  Petrol      Dealer           AT   \n",
       "717  Livina  2014       99000000      74292  Petrol      Dealer           AT   \n",
       "718  Livina  2014      103000000      97041  Petrol      Dealer           AT   \n",
       "719  Livina  2014      102000000      88000  Petrol      Dealer           AT   \n",
       "\n",
       "     engine   tax  \n",
       "0      1500  2024  \n",
       "1      1300  2024  \n",
       "2      1500  2024  \n",
       "3      1300  2023  \n",
       "4      1300  2024  \n",
       "..      ...   ...  \n",
       "715    1500  2024  \n",
       "716    1500  2025  \n",
       "717    1500  2024  \n",
       "718    1500  2024  \n",
       "719    1500  2025  \n",
       "\n",
       "[720 rows x 9 columns]"
      ]
     },
     "execution_count": 7,
     "metadata": {},
     "output_type": "execute_result"
    }
   ],
   "source": [
    "cars_data"
   ]
  },
  {
   "cell_type": "code",
   "execution_count": 8,
   "id": "9265f757-b0ee-4419-9ea9-ef2901fef531",
   "metadata": {},
   "outputs": [
    {
     "name": "stdout",
     "output_type": "stream",
     "text": [
      "<class 'pandas.core.frame.DataFrame'>\n",
      "RangeIndex: 720 entries, 0 to 719\n",
      "Data columns (total 9 columns):\n",
      " #   Column         Non-Null Count  Dtype \n",
      "---  ------         --------------  ----- \n",
      " 0   name           720 non-null    object\n",
      " 1   year           720 non-null    int64 \n",
      " 2   selling_price  720 non-null    int64 \n",
      " 3   km_driven      720 non-null    int64 \n",
      " 4   fuel           720 non-null    object\n",
      " 5   seller_type    720 non-null    object\n",
      " 6   transmission   720 non-null    object\n",
      " 7   engine         720 non-null    int64 \n",
      " 8   tax            720 non-null    int64 \n",
      "dtypes: int64(5), object(4)\n",
      "memory usage: 50.8+ KB\n"
     ]
    }
   ],
   "source": [
    "cars_data.info()"
   ]
  },
  {
   "cell_type": "code",
   "execution_count": 9,
   "id": "bc46a63f-6685-47e2-9d47-118fb2803bc4",
   "metadata": {},
   "outputs": [
    {
     "data": {
      "text/plain": [
       "(720, 9)"
      ]
     },
     "execution_count": 9,
     "metadata": {},
     "output_type": "execute_result"
    }
   ],
   "source": [
    "cars_data.shape"
   ]
  },
  {
   "cell_type": "markdown",
   "id": "d7f923ca-00c1-4505-9463-92149c961bf0",
   "metadata": {},
   "source": [
    "#### Pembersihan data"
   ]
  },
  {
   "cell_type": "markdown",
   "id": "776285bc-1e18-4188-a361-ade7727a2381",
   "metadata": {},
   "source": [
    ">pengecekan data null"
   ]
  },
  {
   "cell_type": "code",
   "execution_count": 10,
   "id": "28dbfd1f-67a6-46c5-8027-372fff05e7fd",
   "metadata": {},
   "outputs": [
    {
     "data": {
      "text/plain": [
       "name             0\n",
       "year             0\n",
       "selling_price    0\n",
       "km_driven        0\n",
       "fuel             0\n",
       "seller_type      0\n",
       "transmission     0\n",
       "engine           0\n",
       "tax              0\n",
       "dtype: int64"
      ]
     },
     "execution_count": 10,
     "metadata": {},
     "output_type": "execute_result"
    }
   ],
   "source": [
    "cars_data.isnull().sum()"
   ]
  },
  {
   "cell_type": "code",
   "execution_count": 11,
   "id": "26406601-cb1e-4bf7-9942-daef1f17a1ff",
   "metadata": {},
   "outputs": [],
   "source": [
    "cars_data.dropna(inplace=True)"
   ]
  },
  {
   "cell_type": "code",
   "execution_count": 12,
   "id": "0debecdd-f18f-4713-b6d4-2082fab466dd",
   "metadata": {},
   "outputs": [
    {
     "data": {
      "text/plain": [
       "(720, 9)"
      ]
     },
     "execution_count": 12,
     "metadata": {},
     "output_type": "execute_result"
    }
   ],
   "source": [
    "cars_data.shape"
   ]
  },
  {
   "cell_type": "markdown",
   "id": "469fca73-907d-4497-b884-59156cc096f4",
   "metadata": {},
   "source": [
    "> pengecekan duplikasi data"
   ]
  },
  {
   "cell_type": "code",
   "execution_count": 14,
   "id": "b1460765-a24e-4663-b6f6-9a7443510900",
   "metadata": {},
   "outputs": [
    {
     "data": {
      "text/plain": [
       "79"
      ]
     },
     "execution_count": 14,
     "metadata": {},
     "output_type": "execute_result"
    }
   ],
   "source": [
    "cars_data.duplicated().sum()"
   ]
  },
  {
   "cell_type": "code",
   "execution_count": 15,
   "id": "0aff2594-ed72-474b-bcf0-3d2642c56544",
   "metadata": {},
   "outputs": [],
   "source": [
    "cars_data.drop_duplicates(inplace=True)"
   ]
  },
  {
   "cell_type": "code",
   "execution_count": 16,
   "id": "d25928f2-c89f-4b16-ac83-7be729ad3ca8",
   "metadata": {},
   "outputs": [
    {
     "data": {
      "text/plain": [
       "(641, 9)"
      ]
     },
     "execution_count": 16,
     "metadata": {},
     "output_type": "execute_result"
    }
   ],
   "source": [
    "cars_data.shape"
   ]
  },
  {
   "cell_type": "code",
   "execution_count": 17,
   "id": "a2cded35-1619-4ce4-acc9-402e2aee6ccd",
   "metadata": {},
   "outputs": [
    {
     "data": {
      "text/html": [
       "<div>\n",
       "<style scoped>\n",
       "    .dataframe tbody tr th:only-of-type {\n",
       "        vertical-align: middle;\n",
       "    }\n",
       "\n",
       "    .dataframe tbody tr th {\n",
       "        vertical-align: top;\n",
       "    }\n",
       "\n",
       "    .dataframe thead th {\n",
       "        text-align: right;\n",
       "    }\n",
       "</style>\n",
       "<table border=\"1\" class=\"dataframe\">\n",
       "  <thead>\n",
       "    <tr style=\"text-align: right;\">\n",
       "      <th></th>\n",
       "      <th>name</th>\n",
       "      <th>year</th>\n",
       "      <th>selling_price</th>\n",
       "      <th>km_driven</th>\n",
       "      <th>fuel</th>\n",
       "      <th>seller_type</th>\n",
       "      <th>transmission</th>\n",
       "      <th>engine</th>\n",
       "      <th>tax</th>\n",
       "    </tr>\n",
       "  </thead>\n",
       "  <tbody>\n",
       "    <tr>\n",
       "      <th>0</th>\n",
       "      <td>Avanza</td>\n",
       "      <td>2022</td>\n",
       "      <td>238600000</td>\n",
       "      <td>53000</td>\n",
       "      <td>Petrol</td>\n",
       "      <td>Dealer</td>\n",
       "      <td>AT</td>\n",
       "      <td>1500</td>\n",
       "      <td>2024</td>\n",
       "    </tr>\n",
       "    <tr>\n",
       "      <th>1</th>\n",
       "      <td>Avanza</td>\n",
       "      <td>2019</td>\n",
       "      <td>140000000</td>\n",
       "      <td>95311</td>\n",
       "      <td>Petrol</td>\n",
       "      <td>Dealer</td>\n",
       "      <td>MT</td>\n",
       "      <td>1300</td>\n",
       "      <td>2024</td>\n",
       "    </tr>\n",
       "    <tr>\n",
       "      <th>2</th>\n",
       "      <td>Avanza</td>\n",
       "      <td>2019</td>\n",
       "      <td>180000000</td>\n",
       "      <td>53454</td>\n",
       "      <td>Petrol</td>\n",
       "      <td>Dealer</td>\n",
       "      <td>MT</td>\n",
       "      <td>1500</td>\n",
       "      <td>2024</td>\n",
       "    </tr>\n",
       "    <tr>\n",
       "      <th>3</th>\n",
       "      <td>Avanza</td>\n",
       "      <td>2014</td>\n",
       "      <td>112000000</td>\n",
       "      <td>116075</td>\n",
       "      <td>Petrol</td>\n",
       "      <td>Dealer</td>\n",
       "      <td>MT</td>\n",
       "      <td>1300</td>\n",
       "      <td>2023</td>\n",
       "    </tr>\n",
       "    <tr>\n",
       "      <th>4</th>\n",
       "      <td>Avanza</td>\n",
       "      <td>2013</td>\n",
       "      <td>99000000</td>\n",
       "      <td>82500</td>\n",
       "      <td>Petrol</td>\n",
       "      <td>Dealer</td>\n",
       "      <td>AT</td>\n",
       "      <td>1300</td>\n",
       "      <td>2024</td>\n",
       "    </tr>\n",
       "    <tr>\n",
       "      <th>...</th>\n",
       "      <td>...</td>\n",
       "      <td>...</td>\n",
       "      <td>...</td>\n",
       "      <td>...</td>\n",
       "      <td>...</td>\n",
       "      <td>...</td>\n",
       "      <td>...</td>\n",
       "      <td>...</td>\n",
       "      <td>...</td>\n",
       "    </tr>\n",
       "    <tr>\n",
       "      <th>714</th>\n",
       "      <td>Livina</td>\n",
       "      <td>2019</td>\n",
       "      <td>186000000</td>\n",
       "      <td>18000</td>\n",
       "      <td>Petrol</td>\n",
       "      <td>Dealer</td>\n",
       "      <td>AT</td>\n",
       "      <td>1500</td>\n",
       "      <td>2024</td>\n",
       "    </tr>\n",
       "    <tr>\n",
       "      <th>715</th>\n",
       "      <td>Livina</td>\n",
       "      <td>2014</td>\n",
       "      <td>99000000</td>\n",
       "      <td>74292</td>\n",
       "      <td>Petrol</td>\n",
       "      <td>Dealer</td>\n",
       "      <td>AT</td>\n",
       "      <td>1500</td>\n",
       "      <td>2024</td>\n",
       "    </tr>\n",
       "    <tr>\n",
       "      <th>716</th>\n",
       "      <td>Livina</td>\n",
       "      <td>2014</td>\n",
       "      <td>108000000</td>\n",
       "      <td>88696</td>\n",
       "      <td>Petrol</td>\n",
       "      <td>Dealer</td>\n",
       "      <td>AT</td>\n",
       "      <td>1500</td>\n",
       "      <td>2025</td>\n",
       "    </tr>\n",
       "    <tr>\n",
       "      <th>718</th>\n",
       "      <td>Livina</td>\n",
       "      <td>2014</td>\n",
       "      <td>103000000</td>\n",
       "      <td>97041</td>\n",
       "      <td>Petrol</td>\n",
       "      <td>Dealer</td>\n",
       "      <td>AT</td>\n",
       "      <td>1500</td>\n",
       "      <td>2024</td>\n",
       "    </tr>\n",
       "    <tr>\n",
       "      <th>719</th>\n",
       "      <td>Livina</td>\n",
       "      <td>2014</td>\n",
       "      <td>102000000</td>\n",
       "      <td>88000</td>\n",
       "      <td>Petrol</td>\n",
       "      <td>Dealer</td>\n",
       "      <td>AT</td>\n",
       "      <td>1500</td>\n",
       "      <td>2025</td>\n",
       "    </tr>\n",
       "  </tbody>\n",
       "</table>\n",
       "<p>641 rows × 9 columns</p>\n",
       "</div>"
      ],
      "text/plain": [
       "       name  year  selling_price  km_driven    fuel seller_type transmission  \\\n",
       "0    Avanza  2022      238600000      53000  Petrol      Dealer           AT   \n",
       "1    Avanza  2019      140000000      95311  Petrol      Dealer           MT   \n",
       "2    Avanza  2019      180000000      53454  Petrol      Dealer           MT   \n",
       "3    Avanza  2014      112000000     116075  Petrol      Dealer           MT   \n",
       "4    Avanza  2013       99000000      82500  Petrol      Dealer           AT   \n",
       "..      ...   ...            ...        ...     ...         ...          ...   \n",
       "714  Livina  2019      186000000      18000  Petrol      Dealer           AT   \n",
       "715  Livina  2014       99000000      74292  Petrol      Dealer           AT   \n",
       "716  Livina  2014      108000000      88696  Petrol      Dealer           AT   \n",
       "718  Livina  2014      103000000      97041  Petrol      Dealer           AT   \n",
       "719  Livina  2014      102000000      88000  Petrol      Dealer           AT   \n",
       "\n",
       "     engine   tax  \n",
       "0      1500  2024  \n",
       "1      1300  2024  \n",
       "2      1500  2024  \n",
       "3      1300  2023  \n",
       "4      1300  2024  \n",
       "..      ...   ...  \n",
       "714    1500  2024  \n",
       "715    1500  2024  \n",
       "716    1500  2025  \n",
       "718    1500  2024  \n",
       "719    1500  2025  \n",
       "\n",
       "[641 rows x 9 columns]"
      ]
     },
     "execution_count": 17,
     "metadata": {},
     "output_type": "execute_result"
    }
   ],
   "source": [
    "cars_data"
   ]
  },
  {
   "cell_type": "code",
   "execution_count": 18,
   "id": "91b83195-36cc-483d-818a-4adb9a9e0f67",
   "metadata": {},
   "outputs": [
    {
     "name": "stdout",
     "output_type": "stream",
     "text": [
      "<class 'pandas.core.frame.DataFrame'>\n",
      "Index: 641 entries, 0 to 719\n",
      "Data columns (total 9 columns):\n",
      " #   Column         Non-Null Count  Dtype \n",
      "---  ------         --------------  ----- \n",
      " 0   name           641 non-null    object\n",
      " 1   year           641 non-null    int64 \n",
      " 2   selling_price  641 non-null    int64 \n",
      " 3   km_driven      641 non-null    int64 \n",
      " 4   fuel           641 non-null    object\n",
      " 5   seller_type    641 non-null    object\n",
      " 6   transmission   641 non-null    object\n",
      " 7   engine         641 non-null    int64 \n",
      " 8   tax            641 non-null    int64 \n",
      "dtypes: int64(5), object(4)\n",
      "memory usage: 50.1+ KB\n"
     ]
    }
   ],
   "source": [
    "cars_data.info()"
   ]
  },
  {
   "cell_type": "markdown",
   "id": "49e386bf-b9f8-410f-a44d-7d24b5bbec38",
   "metadata": {},
   "source": [
    "#### Eksplorasi data"
   ]
  },
  {
   "cell_type": "markdown",
   "id": "a8948645-a270-4fd3-a922-3b91236a803c",
   "metadata": {},
   "source": [
    ">Distribusi data"
   ]
  },
  {
   "cell_type": "code",
   "execution_count": 19,
   "id": "0e6884c4-2880-41be-a37e-929cfcff100c",
   "metadata": {},
   "outputs": [
    {
     "data": {
      "image/png": "[encoded data removed]",
      "text/plain": [
       "<Figure size 1200x800 with 1 Axes>"
      ]
     },
     "metadata": {},
     "output_type": "display_data"
    }
   ],
   "source": [
    "# distribusi harga jual\n",
    "plt.figure(figsize=(12, 8))\n",
    "sns.boxplot(x='name',y='selling_price',data=cars_data)\n",
    "plt.show()"
   ]
  },
  {
   "cell_type": "markdown",
   "id": "61778f62-d86e-45a4-ba29-73aeba6b4358",
   "metadata": {},
   "source": [
    "#### Encoding data"
   ]
  },
  {
   "cell_type": "code",
   "execution_count": 21,
   "id": "4be8dd2c-5e83-47e1-a1ac-3646bdb6e15b",
   "metadata": {},
   "outputs": [
    {
     "name": "stdout",
     "output_type": "stream",
     "text": [
      "Unique values of name\n",
      "['Avanza' 'Ertiga' 'Xpander' 'Mobilio' 'Br-V' 'Rush' 'Xenia' 'Terios'\n",
      " 'Confero' 'Stargazer' 'Livina']\n",
      "======================\n",
      "Unique values of year\n",
      "[2022 2019 2014 2013 2018 2017 2016 2021 2023 2015 2020 2012 2010 2011\n",
      " 2005]\n",
      "======================\n",
      "Unique values of selling_price\n",
      "[238600000 140000000 180000000 112000000  99000000 130000000 137000000\n",
      " 215000000 118000000 157500000 228000000 132000000 222000000 177000000\n",
      " 208000000 163000000 175000000 113000000 100000000 190000000 188000000\n",
      " 225000000 210000000 204000000 142000000 178000000 161000000 125000000\n",
      " 223000000 192000000 234000000 321000000 202000000 168000000 245000000\n",
      " 211400000 179000000 197000000 232000000 200000000 205000000 183000000\n",
      " 224000000 297000000 209000000 195000000 217000000 185000000 247000000\n",
      " 235000000 198000000 292000000 189000000 203000000 207000000 237000000\n",
      " 116000000 159000000 153000000 156000000 145000000 150000000 115000000\n",
      " 123000000 131000000 147000000 119000000 138000000 135000000 165000000\n",
      " 141000000 174000000 151000000 124000000 139000000 158000000 134000000\n",
      " 121000000 114000000 117000000 148000000 164000000 128000000 143000000\n",
      " 184000000 144000000 194000000 122000000 136000000 252000000 255000000\n",
      " 155000000 240000000 206000000 162000000 157000000 270000000 260000000\n",
      " 160000000 239000000 267000000 229000000 269000000 107000000 196000000\n",
      " 120000000 170000000 275000000 199000000 231000000 236000000 243000000\n",
      " 169000000 219000000 105000000 282200000 212000000 253000000 254600000\n",
      " 268000000 276000000 191000000 250000000 265000000 146000000 218000000\n",
      " 214000000 108000000 154000000 211000000 201000000 111000000 290000000\n",
      " 296000000 226000000 127000000 277000000 244000000 285000000 272000000\n",
      " 242000000 263000000 271000000  93000000 101000000 129000000 103000000\n",
      " 172000000 254000000 110000000 291000000 230000000 104000000  87000000\n",
      " 167000000  80000000  79000000  96000000  95000000 152000000 133000000\n",
      " 126000000 109000000 182000000  86000000  68000000  82000000 181000000\n",
      " 161900000 176000000 171000000 165145000 193000000 173000000 102000000\n",
      " 119500000 106000000 233000000 166000000  91000000 106500000  88000000\n",
      " 216000000  98000000  90000000  89000000 187000000  58000000 186000000]\n",
      "======================\n",
      "Unique values of km_driven\n",
      "[ 53000  95311  53454 116075  82500  77500  87250  25000  69000  55000\n",
      "  40000 165851  49202  66957 110000  35000  95000 128000  30000  54000\n",
      "  10000  58000  22000  79000  17471  88980  70000  55216  24101  24134\n",
      "  64000  30143  10288  91150  84340   8000  82805  80457  43571  79887\n",
      "  77354  33230  41575  91921  78000  22295  55162  49959  15606  54445\n",
      "  46100  35226  71542  19000  21000  74824  74053  35209  51660  50697\n",
      " 109771  18633  69310 101426  74954  56457   8616  53516  67619  69168\n",
      "  51000  28735  81228  44342  57067  88709  69367  41596  61461 158531\n",
      "  69086 110679  41051 141907  75088  91084 133451  35493  92824 123451\n",
      " 103675  23238 118688 112020  52536  49927  88530  48498  94790  40279\n",
      "  87759 141492  79380  66000 111450 114397  71208 113353 107174 102334\n",
      " 122743 114475 115519  93000  43420 150000  26803 110250  98425 102000\n",
      "  79414  55518  14893 116890  32706  63274 153505 133147  81476 131088\n",
      "  73274 165290  30297  70602 108545 120396  48000 106000  29135  78180\n",
      " 103000  71000  39000 105000  50000 111000  14000   9000 160000  62990\n",
      "  26905  88854  71335  27038 166531  77068  26804 100513  37167 165409\n",
      "  55043 135225   6000  74000 112047  23000 140680  91415  61329 109121\n",
      "  11063  19388  56346  35250 117466  36000 108909 103702  52528  88850\n",
      "  60873  28822  88166  15000  80505  24920  14570  83165  16912  64740\n",
      "  18693  35391  96966  72584 136169  82573  47482  29000 120144  89043\n",
      "  71462  82394  37990 128489  89031  97388  93996  64239   8567 129260\n",
      "  74228  24318  60303 162392  38994  97565  50825  20480  78736  33317\n",
      "  34473  20345  18049  50589  39252  35244  11229  47597  73400  11000\n",
      "   6212  29589  26128  12965  37934   6083 113908  33096  61900 108000\n",
      "  76000 182032  99642  89000  63811  85072  16948 108567  21990  25429\n",
      "  16633  24472 118000  62507   7832 118710  15356 152230 101344  19917\n",
      "  33689  38647  25344 135785  99692 102366 125354  57000 152000  43606\n",
      "  41754  68512  44507  89394  56628  68373  86215  50099  42835 106817\n",
      " 105691 171669  86986  23664 144367  93753  76857 279877 134707  94000\n",
      "  33024  42969  32780  48283 109762  71877  12811 271532  34490 118107\n",
      " 126362 118878 120349 129068 128694  97000  99341  21921 135000  42553\n",
      " 145164  59577  68000  21927  25571  73807  98238 106583  90000  63000\n",
      "  98000 136819  86779  67922 104000 141993  32000  83035  63513  86312\n",
      "  94657  46365  63165  85770 144521  54820  30578 136000 177917  22233\n",
      " 143399  38020  57721  90121 123389 161960  84747 114830 123590  77000\n",
      "  81913  77425  77327  35392 105167  52327  76402  49657  27000  49000\n",
      "  47136 144000  75000  38292  60000 108887  61484  78976  74690  85076\n",
      "  84000  81715 131873 107885  83746  45502  86630 124903  81776  29345\n",
      " 123175 132126 109658  52000  61654  78285  70631 110173 229523  46273\n",
      "  77329  80579  88924  98379 188903 123139 109859 119121  67000 101540\n",
      " 222300 177537  22702 230645 114794 174196  24468  30377  98592  48016\n",
      "  65092  17304 193596 118423  41436  49830  82575  82000  92956  73321\n",
      "  30767  88803 106344 113121 170290  32813  59715  97999  53166  14135\n",
      " 104776  65241  63378  50905 148032  47000  79687  13071  80000  98096\n",
      "  88760  74058  66186  27219  18874  97325  58291 101266 107362 130028\n",
      "  89333 100748  54141  56000  15034  18298  94953 100480  17791 188504\n",
      "  73437  26856  47730  14131  41000  54215   7000  20000  45000 173330\n",
      "   5543  26613  20837  18983  26778   9867  27152  16785  18036  12492\n",
      "  13397  38000  96000  81676  66520  53771  74292  97587  63137  54021\n",
      "  62366  92478  73331  88846  50284 208418 104385  80501 100823  99479\n",
      "  96040  80632  46774 124960  72000  87709  62000  42708  51809  18000\n",
      "  88696  97041  88000]\n",
      "======================\n",
      "Unique values of fuel\n",
      "['Petrol' 'Hybrid']\n",
      "======================\n",
      "Unique values of seller_type\n",
      "['Dealer' 'Individual']\n",
      "======================\n",
      "Unique values of transmission\n",
      "['AT' 'MT']\n",
      "======================\n",
      "Unique values of engine\n",
      "[1500 1300 1400 1000]\n",
      "======================\n",
      "Unique values of tax\n",
      "[2024 2023 2025 2029 2020 2022 2026 2021]\n",
      "======================\n"
     ]
    }
   ],
   "source": [
    "# menampilkan semua data unik\n",
    "for col in cars_data.columns:\n",
    "    print('Unique values of ' + col)\n",
    "    print(cars_data[col].unique())\n",
    "    print(\"======================\")"
   ]
  },
  {
   "cell_type": "code",
   "execution_count": 22,
   "id": "4d38e88d-dc71-4702-a333-64904aa33f68",
   "metadata": {},
   "outputs": [],
   "source": [
    "# encoding untuk kolom nama mobil"
   ]
  },
  {
   "cell_type": "code",
   "execution_count": 23,
   "id": "4ef65d39-9c94-461c-8c71-04f022388561",
   "metadata": {},
   "outputs": [],
   "source": [
    "# fungsi untuk nama mobil\n",
    "def get_brand_name(car_name):\n",
    "    car_name = car_name.split(' ')[0]\n",
    "    return car_name.strip()"
   ]
  },
  {
   "cell_type": "code",
   "execution_count": 24,
   "id": "d3ace190-5f31-45e6-9cad-13767e00bc21",
   "metadata": {},
   "outputs": [],
   "source": [
    "# fungsi untuk cleaning nama mobil\n",
    "def clean_data(value):\n",
    "    value = value.split(' ')[0]\n",
    "    value = value.strip()\n",
    "    if value == '':\n",
    "        value = 0\n",
    "    return float(value)"
   ]
  },
  {
   "cell_type": "code",
   "execution_count": 25,
   "id": "0644093c-faad-4407-974e-02cfe9353b9c",
   "metadata": {},
   "outputs": [],
   "source": [
    "cars_data['name'] = cars_data['name'].apply(get_brand_name)"
   ]
  },
  {
   "cell_type": "code",
   "execution_count": 26,
   "id": "621b42d0-eb5b-45b3-a88a-614f5f213e98",
   "metadata": {},
   "outputs": [
    {
     "data": {
      "text/plain": [
       "array(['Avanza', 'Ertiga', 'Xpander', 'Mobilio', 'Br-V', 'Rush', 'Xenia',\n",
       "       'Terios', 'Confero', 'Stargazer', 'Livina'], dtype=object)"
      ]
     },
     "execution_count": 26,
     "metadata": {},
     "output_type": "execute_result"
    }
   ],
   "source": [
    "cars_data['name'].unique()"
   ]
  },
  {
   "cell_type": "code",
   "execution_count": 27,
   "id": "a21f1b9e-2fc2-41f5-8296-6b602cde1f11",
   "metadata": {},
   "outputs": [],
   "source": [
    "# mengubah nama mobil menjadi numerik\n",
    "cars_data['name'].replace(['Avanza', 'Ertiga', 'Xpander', 'Mobilio', 'Br-V', 'Rush', 'Xenia',\n",
    "       'Terios', 'Confero', 'Stargazer', 'Livina'],\n",
    "                          [1,2,3,4,5,6,7,8,9,10,11]\n",
    "                          ,inplace=True)"
   ]
  },
  {
   "cell_type": "code",
   "execution_count": 28,
   "id": "7280684c-a287-440a-aa36-61904dc8a65d",
   "metadata": {},
   "outputs": [],
   "source": [
    "# encoding untuk kolom transmisi"
   ]
  },
  {
   "cell_type": "code",
   "execution_count": 29,
   "id": "e7385c57-b05a-4c51-a1ec-0ccbd16370ca",
   "metadata": {},
   "outputs": [
    {
     "data": {
      "text/plain": [
       "array(['AT', 'MT'], dtype=object)"
      ]
     },
     "execution_count": 29,
     "metadata": {},
     "output_type": "execute_result"
    }
   ],
   "source": [
    "cars_data['transmission'].unique()"
   ]
  },
  {
   "cell_type": "code",
   "execution_count": 30,
   "id": "b3ed8ff1-2806-4bbc-b4b8-600385d2939a",
   "metadata": {},
   "outputs": [],
   "source": [
    "cars_data['transmission'].replace(['MT', 'AT'],[1,2], inplace=True)"
   ]
  },
  {
   "cell_type": "code",
   "execution_count": 31,
   "id": "61674ba5-bcbe-4bb9-90f5-4714f8e1d393",
   "metadata": {},
   "outputs": [],
   "source": [
    "# encoding untuk kolom tipe seller"
   ]
  },
  {
   "cell_type": "code",
   "execution_count": 32,
   "id": "06eee268-5507-4a29-bb8a-d51870abe75f",
   "metadata": {},
   "outputs": [
    {
     "data": {
      "text/plain": [
       "array(['Dealer', 'Individual'], dtype=object)"
      ]
     },
     "execution_count": 32,
     "metadata": {},
     "output_type": "execute_result"
    }
   ],
   "source": [
    "cars_data['seller_type'].unique()"
   ]
  },
  {
   "cell_type": "code",
   "execution_count": 33,
   "id": "95e81db1-34fc-4f0b-ac10-441abde4ffde",
   "metadata": {},
   "outputs": [],
   "source": [
    "cars_data['seller_type'].replace(['Dealer', 'Individual'],[1,2], inplace=True)"
   ]
  },
  {
   "cell_type": "code",
   "execution_count": 34,
   "id": "c6e80d8b-87f8-446f-8bcc-ddf7aa17f1dd",
   "metadata": {},
   "outputs": [],
   "source": [
    "# encoding untuk kolom bahan bakar"
   ]
  },
  {
   "cell_type": "code",
   "execution_count": 35,
   "id": "47a197d1-aa3c-4f1e-96f4-ee2be735892c",
   "metadata": {},
   "outputs": [
    {
     "data": {
      "text/plain": [
       "array(['Petrol', 'Hybrid'], dtype=object)"
      ]
     },
     "execution_count": 35,
     "metadata": {},
     "output_type": "execute_result"
    }
   ],
   "source": [
    "cars_data['fuel'].unique()"
   ]
  },
  {
   "cell_type": "code",
   "execution_count": 36,
   "id": "32c025b0-9ee9-4638-aa1c-aad389f9ef71",
   "metadata": {},
   "outputs": [],
   "source": [
    "cars_data['fuel'].replace(['Petrol', 'Hybrid'],[1,2], inplace=True)"
   ]
  },
  {
   "cell_type": "code",
   "execution_count": 37,
   "id": "2c56c15b-1301-4e99-97ee-2765f72e336a",
   "metadata": {},
   "outputs": [
    {
     "name": "stdout",
     "output_type": "stream",
     "text": [
      "<class 'pandas.core.frame.DataFrame'>\n",
      "Index: 641 entries, 0 to 719\n",
      "Data columns (total 9 columns):\n",
      " #   Column         Non-Null Count  Dtype\n",
      "---  ------         --------------  -----\n",
      " 0   name           641 non-null    int64\n",
      " 1   year           641 non-null    int64\n",
      " 2   selling_price  641 non-null    int64\n",
      " 3   km_driven      641 non-null    int64\n",
      " 4   fuel           641 non-null    int64\n",
      " 5   seller_type    641 non-null    int64\n",
      " 6   transmission   641 non-null    int64\n",
      " 7   engine         641 non-null    int64\n",
      " 8   tax            641 non-null    int64\n",
      "dtypes: int64(9)\n",
      "memory usage: 50.1 KB\n"
     ]
    }
   ],
   "source": [
    "# mengecek informasi tipe data\n",
    "cars_data.info()"
   ]
  },
  {
   "cell_type": "code",
   "execution_count": 38,
   "id": "8b247c1d-0081-4096-b6e9-6cf0d1db4ba2",
   "metadata": {},
   "outputs": [],
   "source": [
    "# reset index\n",
    "cars_data.reset_index(inplace=True)"
   ]
  },
  {
   "cell_type": "code",
   "execution_count": 39,
   "id": "fb79a599-4c87-4238-8b18-b4e024a64fa1",
   "metadata": {},
   "outputs": [
    {
     "data": {
      "text/html": [
       "<div>\n",
       "<style scoped>\n",
       "    .dataframe tbody tr th:only-of-type {\n",
       "        vertical-align: middle;\n",
       "    }\n",
       "\n",
       "    .dataframe tbody tr th {\n",
       "        vertical-align: top;\n",
       "    }\n",
       "\n",
       "    .dataframe thead th {\n",
       "        text-align: right;\n",
       "    }\n",
       "</style>\n",
       "<table border=\"1\" class=\"dataframe\">\n",
       "  <thead>\n",
       "    <tr style=\"text-align: right;\">\n",
       "      <th></th>\n",
       "      <th>index</th>\n",
       "      <th>name</th>\n",
       "      <th>year</th>\n",
       "      <th>selling_price</th>\n",
       "      <th>km_driven</th>\n",
       "      <th>fuel</th>\n",
       "      <th>seller_type</th>\n",
       "      <th>transmission</th>\n",
       "      <th>engine</th>\n",
       "      <th>tax</th>\n",
       "    </tr>\n",
       "  </thead>\n",
       "  <tbody>\n",
       "    <tr>\n",
       "      <th>0</th>\n",
       "      <td>0</td>\n",
       "      <td>1</td>\n",
       "      <td>2022</td>\n",
       "      <td>238600000</td>\n",
       "      <td>53000</td>\n",
       "      <td>1</td>\n",
       "      <td>1</td>\n",
       "      <td>2</td>\n",
       "      <td>1500</td>\n",
       "      <td>2024</td>\n",
       "    </tr>\n",
       "    <tr>\n",
       "      <th>1</th>\n",
       "      <td>1</td>\n",
       "      <td>1</td>\n",
       "      <td>2019</td>\n",
       "      <td>140000000</td>\n",
       "      <td>95311</td>\n",
       "      <td>1</td>\n",
       "      <td>1</td>\n",
       "      <td>1</td>\n",
       "      <td>1300</td>\n",
       "      <td>2024</td>\n",
       "    </tr>\n",
       "    <tr>\n",
       "      <th>2</th>\n",
       "      <td>2</td>\n",
       "      <td>1</td>\n",
       "      <td>2019</td>\n",
       "      <td>180000000</td>\n",
       "      <td>53454</td>\n",
       "      <td>1</td>\n",
       "      <td>1</td>\n",
       "      <td>1</td>\n",
       "      <td>1500</td>\n",
       "      <td>2024</td>\n",
       "    </tr>\n",
       "    <tr>\n",
       "      <th>3</th>\n",
       "      <td>3</td>\n",
       "      <td>1</td>\n",
       "      <td>2014</td>\n",
       "      <td>112000000</td>\n",
       "      <td>116075</td>\n",
       "      <td>1</td>\n",
       "      <td>1</td>\n",
       "      <td>1</td>\n",
       "      <td>1300</td>\n",
       "      <td>2023</td>\n",
       "    </tr>\n",
       "    <tr>\n",
       "      <th>4</th>\n",
       "      <td>4</td>\n",
       "      <td>1</td>\n",
       "      <td>2013</td>\n",
       "      <td>99000000</td>\n",
       "      <td>82500</td>\n",
       "      <td>1</td>\n",
       "      <td>1</td>\n",
       "      <td>2</td>\n",
       "      <td>1300</td>\n",
       "      <td>2024</td>\n",
       "    </tr>\n",
       "    <tr>\n",
       "      <th>...</th>\n",
       "      <td>...</td>\n",
       "      <td>...</td>\n",
       "      <td>...</td>\n",
       "      <td>...</td>\n",
       "      <td>...</td>\n",
       "      <td>...</td>\n",
       "      <td>...</td>\n",
       "      <td>...</td>\n",
       "      <td>...</td>\n",
       "      <td>...</td>\n",
       "    </tr>\n",
       "    <tr>\n",
       "      <th>636</th>\n",
       "      <td>714</td>\n",
       "      <td>11</td>\n",
       "      <td>2019</td>\n",
       "      <td>186000000</td>\n",
       "      <td>18000</td>\n",
       "      <td>1</td>\n",
       "      <td>1</td>\n",
       "      <td>2</td>\n",
       "      <td>1500</td>\n",
       "      <td>2024</td>\n",
       "    </tr>\n",
       "    <tr>\n",
       "      <th>637</th>\n",
       "      <td>715</td>\n",
       "      <td>11</td>\n",
       "      <td>2014</td>\n",
       "      <td>99000000</td>\n",
       "      <td>74292</td>\n",
       "      <td>1</td>\n",
       "      <td>1</td>\n",
       "      <td>2</td>\n",
       "      <td>1500</td>\n",
       "      <td>2024</td>\n",
       "    </tr>\n",
       "    <tr>\n",
       "      <th>638</th>\n",
       "      <td>716</td>\n",
       "      <td>11</td>\n",
       "      <td>2014</td>\n",
       "      <td>108000000</td>\n",
       "      <td>88696</td>\n",
       "      <td>1</td>\n",
       "      <td>1</td>\n",
       "      <td>2</td>\n",
       "      <td>1500</td>\n",
       "      <td>2025</td>\n",
       "    </tr>\n",
       "    <tr>\n",
       "      <th>639</th>\n",
       "      <td>718</td>\n",
       "      <td>11</td>\n",
       "      <td>2014</td>\n",
       "      <td>103000000</td>\n",
       "      <td>97041</td>\n",
       "      <td>1</td>\n",
       "      <td>1</td>\n",
       "      <td>2</td>\n",
       "      <td>1500</td>\n",
       "      <td>2024</td>\n",
       "    </tr>\n",
       "    <tr>\n",
       "      <th>640</th>\n",
       "      <td>719</td>\n",
       "      <td>11</td>\n",
       "      <td>2014</td>\n",
       "      <td>102000000</td>\n",
       "      <td>88000</td>\n",
       "      <td>1</td>\n",
       "      <td>1</td>\n",
       "      <td>2</td>\n",
       "      <td>1500</td>\n",
       "      <td>2025</td>\n",
       "    </tr>\n",
       "  </tbody>\n",
       "</table>\n",
       "<p>641 rows × 10 columns</p>\n",
       "</div>"
      ],
      "text/plain": [
       "     index  name  year  selling_price  km_driven  fuel  seller_type  \\\n",
       "0        0     1  2022      238600000      53000     1            1   \n",
       "1        1     1  2019      140000000      95311     1            1   \n",
       "2        2     1  2019      180000000      53454     1            1   \n",
       "3        3     1  2014      112000000     116075     1            1   \n",
       "4        4     1  2013       99000000      82500     1            1   \n",
       "..     ...   ...   ...            ...        ...   ...          ...   \n",
       "636    714    11  2019      186000000      18000     1            1   \n",
       "637    715    11  2014       99000000      74292     1            1   \n",
       "638    716    11  2014      108000000      88696     1            1   \n",
       "639    718    11  2014      103000000      97041     1            1   \n",
       "640    719    11  2014      102000000      88000     1            1   \n",
       "\n",
       "     transmission  engine   tax  \n",
       "0               2    1500  2024  \n",
       "1               1    1300  2024  \n",
       "2               1    1500  2024  \n",
       "3               1    1300  2023  \n",
       "4               2    1300  2024  \n",
       "..            ...     ...   ...  \n",
       "636             2    1500  2024  \n",
       "637             2    1500  2024  \n",
       "638             2    1500  2025  \n",
       "639             2    1500  2024  \n",
       "640             2    1500  2025  \n",
       "\n",
       "[641 rows x 10 columns]"
      ]
     },
     "execution_count": 39,
     "metadata": {},
     "output_type": "execute_result"
    }
   ],
   "source": [
    "cars_data"
   ]
  },
  {
   "cell_type": "code",
   "execution_count": 40,
   "id": "10c094cc-3f25-4130-9152-d25fd8badbc2",
   "metadata": {},
   "outputs": [],
   "source": [
    "cars_data.drop(columns=['index'], inplace=True)"
   ]
  },
  {
   "cell_type": "code",
   "execution_count": 41,
   "id": "7c180ea5-3de1-488a-9af6-3ee43a72513f",
   "metadata": {
    "scrolled": true
   },
   "outputs": [
    {
     "name": "stdout",
     "output_type": "stream",
     "text": [
      "------------\n",
      "name\n",
      "[ 1  2  3  4  5  6  7  8  9 10 11]\n",
      "------------\n",
      "year\n",
      "[2022 2019 2014 2013 2018 2017 2016 2021 2023 2015 2020 2012 2010 2011\n",
      " 2005]\n",
      "------------\n",
      "selling_price\n",
      "[238600000 140000000 180000000 112000000  99000000 130000000 137000000\n",
      " 215000000 118000000 157500000 228000000 132000000 222000000 177000000\n",
      " 208000000 163000000 175000000 113000000 100000000 190000000 188000000\n",
      " 225000000 210000000 204000000 142000000 178000000 161000000 125000000\n",
      " 223000000 192000000 234000000 321000000 202000000 168000000 245000000\n",
      " 211400000 179000000 197000000 232000000 200000000 205000000 183000000\n",
      " 224000000 297000000 209000000 195000000 217000000 185000000 247000000\n",
      " 235000000 198000000 292000000 189000000 203000000 207000000 237000000\n",
      " 116000000 159000000 153000000 156000000 145000000 150000000 115000000\n",
      " 123000000 131000000 147000000 119000000 138000000 135000000 165000000\n",
      " 141000000 174000000 151000000 124000000 139000000 158000000 134000000\n",
      " 121000000 114000000 117000000 148000000 164000000 128000000 143000000\n",
      " 184000000 144000000 194000000 122000000 136000000 252000000 255000000\n",
      " 155000000 240000000 206000000 162000000 157000000 270000000 260000000\n",
      " 160000000 239000000 267000000 229000000 269000000 107000000 196000000\n",
      " 120000000 170000000 275000000 199000000 231000000 236000000 243000000\n",
      " 169000000 219000000 105000000 282200000 212000000 253000000 254600000\n",
      " 268000000 276000000 191000000 250000000 265000000 146000000 218000000\n",
      " 214000000 108000000 154000000 211000000 201000000 111000000 290000000\n",
      " 296000000 226000000 127000000 277000000 244000000 285000000 272000000\n",
      " 242000000 263000000 271000000  93000000 101000000 129000000 103000000\n",
      " 172000000 254000000 110000000 291000000 230000000 104000000  87000000\n",
      " 167000000  80000000  79000000  96000000  95000000 152000000 133000000\n",
      " 126000000 109000000 182000000  86000000  68000000  82000000 181000000\n",
      " 161900000 176000000 171000000 165145000 193000000 173000000 102000000\n",
      " 119500000 106000000 233000000 166000000  91000000 106500000  88000000\n",
      " 216000000  98000000  90000000  89000000 187000000  58000000 186000000]\n",
      "------------\n",
      "km_driven\n",
      "[ 53000  95311  53454 116075  82500  77500  87250  25000  69000  55000\n",
      "  40000 165851  49202  66957 110000  35000  95000 128000  30000  54000\n",
      "  10000  58000  22000  79000  17471  88980  70000  55216  24101  24134\n",
      "  64000  30143  10288  91150  84340   8000  82805  80457  43571  79887\n",
      "  77354  33230  41575  91921  78000  22295  55162  49959  15606  54445\n",
      "  46100  35226  71542  19000  21000  74824  74053  35209  51660  50697\n",
      " 109771  18633  69310 101426  74954  56457   8616  53516  67619  69168\n",
      "  51000  28735  81228  44342  57067  88709  69367  41596  61461 158531\n",
      "  69086 110679  41051 141907  75088  91084 133451  35493  92824 123451\n",
      " 103675  23238 118688 112020  52536  49927  88530  48498  94790  40279\n",
      "  87759 141492  79380  66000 111450 114397  71208 113353 107174 102334\n",
      " 122743 114475 115519  93000  43420 150000  26803 110250  98425 102000\n",
      "  79414  55518  14893 116890  32706  63274 153505 133147  81476 131088\n",
      "  73274 165290  30297  70602 108545 120396  48000 106000  29135  78180\n",
      " 103000  71000  39000 105000  50000 111000  14000   9000 160000  62990\n",
      "  26905  88854  71335  27038 166531  77068  26804 100513  37167 165409\n",
      "  55043 135225   6000  74000 112047  23000 140680  91415  61329 109121\n",
      "  11063  19388  56346  35250 117466  36000 108909 103702  52528  88850\n",
      "  60873  28822  88166  15000  80505  24920  14570  83165  16912  64740\n",
      "  18693  35391  96966  72584 136169  82573  47482  29000 120144  89043\n",
      "  71462  82394  37990 128489  89031  97388  93996  64239   8567 129260\n",
      "  74228  24318  60303 162392  38994  97565  50825  20480  78736  33317\n",
      "  34473  20345  18049  50589  39252  35244  11229  47597  73400  11000\n",
      "   6212  29589  26128  12965  37934   6083 113908  33096  61900 108000\n",
      "  76000 182032  99642  89000  63811  85072  16948 108567  21990  25429\n",
      "  16633  24472 118000  62507   7832 118710  15356 152230 101344  19917\n",
      "  33689  38647  25344 135785  99692 102366 125354  57000 152000  43606\n",
      "  41754  68512  44507  89394  56628  68373  86215  50099  42835 106817\n",
      " 105691 171669  86986  23664 144367  93753  76857 279877 134707  94000\n",
      "  33024  42969  32780  48283 109762  71877  12811 271532  34490 118107\n",
      " 126362 118878 120349 129068 128694  97000  99341  21921 135000  42553\n",
      " 145164  59577  68000  21927  25571  73807  98238 106583  90000  63000\n",
      "  98000 136819  86779  67922 104000 141993  32000  83035  63513  86312\n",
      "  94657  46365  63165  85770 144521  54820  30578 136000 177917  22233\n",
      " 143399  38020  57721  90121 123389 161960  84747 114830 123590  77000\n",
      "  81913  77425  77327  35392 105167  52327  76402  49657  27000  49000\n",
      "  47136 144000  75000  38292  60000 108887  61484  78976  74690  85076\n",
      "  84000  81715 131873 107885  83746  45502  86630 124903  81776  29345\n",
      " 123175 132126 109658  52000  61654  78285  70631 110173 229523  46273\n",
      "  77329  80579  88924  98379 188903 123139 109859 119121  67000 101540\n",
      " 222300 177537  22702 230645 114794 174196  24468  30377  98592  48016\n",
      "  65092  17304 193596 118423  41436  49830  82575  82000  92956  73321\n",
      "  30767  88803 106344 113121 170290  32813  59715  97999  53166  14135\n",
      " 104776  65241  63378  50905 148032  47000  79687  13071  80000  98096\n",
      "  88760  74058  66186  27219  18874  97325  58291 101266 107362 130028\n",
      "  89333 100748  54141  56000  15034  18298  94953 100480  17791 188504\n",
      "  73437  26856  47730  14131  41000  54215   7000  20000  45000 173330\n",
      "   5543  26613  20837  18983  26778   9867  27152  16785  18036  12492\n",
      "  13397  38000  96000  81676  66520  53771  74292  97587  63137  54021\n",
      "  62366  92478  73331  88846  50284 208418 104385  80501 100823  99479\n",
      "  96040  80632  46774 124960  72000  87709  62000  42708  51809  18000\n",
      "  88696  97041  88000]\n",
      "------------\n",
      "fuel\n",
      "[1 2]\n",
      "------------\n",
      "seller_type\n",
      "[1 2]\n",
      "------------\n",
      "transmission\n",
      "[2 1]\n",
      "------------\n",
      "engine\n",
      "[1500 1300 1400 1000]\n",
      "------------\n",
      "tax\n",
      "[2024 2023 2025 2029 2020 2022 2026 2021]\n"
     ]
    }
   ],
   "source": [
    "# menampilkan kembali semua data unik\n",
    "for col in cars_data.columns:\n",
    "    print('------------')\n",
    "    print(col)\n",
    "    print(cars_data[col].unique())"
   ]
  },
  {
   "cell_type": "markdown",
   "id": "3f6fbf18-7b6d-47db-98f7-89ea19c4bd3e",
   "metadata": {},
   "source": [
    "#### Analisis data hasil encoding"
   ]
  },
  {
   "cell_type": "code",
   "execution_count": 46,
   "id": "62a9a256-5ed0-44e1-a169-7543b5966efa",
   "metadata": {},
   "outputs": [
    {
     "data": {
      "text/plain": [
       "<Axes: >"
      ]
     },
     "execution_count": 46,
     "metadata": {},
     "output_type": "execute_result"
    },
    {
     "data": {
      "image/png": "[encoded data removed]",
      "text/plain": [
       "<Figure size 640x480 with 2 Axes>"
      ]
     },
     "metadata": {},
     "output_type": "display_data"
    }
   ],
   "source": [
    "# menganalisis korelasi antar data\n",
    "sns.heatmap(cars_data.corr(), annot=True,)"
   ]
  },
  {
   "cell_type": "markdown",
   "id": "8d10851d-2701-4e01-85eb-90fcd3a22ea0",
   "metadata": {},
   "source": [
    "#### Splitting data"
   ]
  },
  {
   "cell_type": "code",
   "execution_count": 47,
   "id": "30a6958e-ec21-4591-aa7b-70940ee65902",
   "metadata": {},
   "outputs": [],
   "source": [
    "input_data = cars_data.drop(columns=['selling_price'])\n",
    "output_data =cars_data['selling_price']"
   ]
  },
  {
   "cell_type": "code",
   "execution_count": 73,
   "id": "00029783-7276-4690-8591-976f7a91439e",
   "metadata": {},
   "outputs": [],
   "source": [
    "x_train, x_test, y_train, y_test = train_test_split(input_data, output_data, test_size=0.2, random_state=1)"
   ]
  },
  {
   "cell_type": "markdown",
   "id": "9993d75e-2504-4e83-8a6f-4bc72aad5408",
   "metadata": {},
   "source": [
    "#### Pemilihan model"
   ]
  },
  {
   "cell_type": "code",
   "execution_count": 74,
   "id": "65eabbf0-9093-4f20-91cb-01a922a01eb4",
   "metadata": {},
   "outputs": [],
   "source": [
    "model = LinearRegression()"
   ]
  },
  {
   "cell_type": "markdown",
   "id": "80f03d3d-02e9-408e-a07f-74b9b1937bed",
   "metadata": {},
   "source": [
    "#### Training model"
   ]
  },
  {
   "cell_type": "code",
   "execution_count": 75,
   "id": "c2f10200-383c-4052-ac9f-f5ab8bf6d8da",
   "metadata": {},
   "outputs": [
    {
     "data": {
      "text/html": [
       "<style>#sk-container-id-5 {\n",
       "  /* Definition of color scheme common for light and dark mode */\n",
       "  --sklearn-color-text: black;\n",
       "  --sklearn-color-line: gray;\n",
       "  /* Definition of color scheme for unfitted estimators */\n",
       "  --sklearn-color-unfitted-level-0: #fff5e6;\n",
       "  --sklearn-color-unfitted-level-1: #f6e4d2;\n",
       "  --sklearn-color-unfitted-level-2: #ffe0b3;\n",
       "  --sklearn-color-unfitted-level-3: chocolate;\n",
       "  /* Definition of color scheme for fitted estimators */\n",
       "  --sklearn-color-fitted-level-0: #f0f8ff;\n",
       "  --sklearn-color-fitted-level-1: #d4ebff;\n",
       "  --sklearn-color-fitted-level-2: #b3dbfd;\n",
       "  --sklearn-color-fitted-level-3: cornflowerblue;\n",
       "\n",
       "  /* Specific color for light theme */\n",
       "  --sklearn-color-text-on-default-background: var(--sg-text-color, var(--theme-code-foreground, var(--jp-content-font-color1, black)));\n",
       "  --sklearn-color-background: var(--sg-background-color, var(--theme-background, var(--jp-layout-color0, white)));\n",
       "  --sklearn-color-border-box: var(--sg-text-color, var(--theme-code-foreground, var(--jp-content-font-color1, black)));\n",
       "  --sklearn-color-icon: #696969;\n",
       "\n",
       "  @media (prefers-color-scheme: dark) {\n",
       "    /* Redefinition of color scheme for dark theme */\n",
       "    --sklearn-color-text-on-default-background: var(--sg-text-color, var(--theme-code-foreground, var(--jp-content-font-color1, white)));\n",
       "    --sklearn-color-background: var(--sg-background-color, var(--theme-background, var(--jp-layout-color0, #111)));\n",
       "    --sklearn-color-border-box: var(--sg-text-color, var(--theme-code-foreground, var(--jp-content-font-color1, white)));\n",
       "    --sklearn-color-icon: #878787;\n",
       "  }\n",
       "}\n",
       "\n",
       "#sk-container-id-5 {\n",
       "  color: var(--sklearn-color-text);\n",
       "}\n",
       "\n",
       "#sk-container-id-5 pre {\n",
       "  padding: 0;\n",
       "}\n",
       "\n",
       "#sk-container-id-5 input.sk-hidden--visually {\n",
       "  border: 0;\n",
       "  clip: rect(1px 1px 1px 1px);\n",
       "  clip: rect(1px, 1px, 1px, 1px);\n",
       "  height: 1px;\n",
       "  margin: -1px;\n",
       "  overflow: hidden;\n",
       "  padding: 0;\n",
       "  position: absolute;\n",
       "  width: 1px;\n",
       "}\n",
       "\n",
       "#sk-container-id-5 div.sk-dashed-wrapped {\n",
       "  border: 1px dashed var(--sklearn-color-line);\n",
       "  margin: 0 0.4em 0.5em 0.4em;\n",
       "  box-sizing: border-box;\n",
       "  padding-bottom: 0.4em;\n",
       "  background-color: var(--sklearn-color-background);\n",
       "}\n",
       "\n",
       "#sk-container-id-5 div.sk-container {\n",
       "  /* jupyter's `normalize.less` sets `[hidden] { display: none; }`\n",
       "     but bootstrap.min.css set `[hidden] { display: none !important; }`\n",
       "     so we also need the `!important` here to be able to override the\n",
       "     default hidden behavior on the sphinx rendered scikit-learn.org.\n",
       "     See: https://github.com/scikit-learn/scikit-learn/issues/21755 */\n",
       "  display: inline-block !important;\n",
       "  position: relative;\n",
       "}\n",
       "\n",
       "#sk-container-id-5 div.sk-text-repr-fallback {\n",
       "  display: none;\n",
       "}\n",
       "\n",
       "div.sk-parallel-item,\n",
       "div.sk-serial,\n",
       "div.sk-item {\n",
       "  /* draw centered vertical line to link estimators */\n",
       "  background-image: linear-gradient(var(--sklearn-color-text-on-default-background), var(--sklearn-color-text-on-default-background));\n",
       "  background-size: 2px 100%;\n",
       "  background-repeat: no-repeat;\n",
       "  background-position: center center;\n",
       "}\n",
       "\n",
       "/* Parallel-specific style estimator block */\n",
       "\n",
       "#sk-container-id-5 div.sk-parallel-item::after {\n",
       "  content: \"\";\n",
       "  width: 100%;\n",
       "  border-bottom: 2px solid var(--sklearn-color-text-on-default-background);\n",
       "  flex-grow: 1;\n",
       "}\n",
       "\n",
       "#sk-container-id-5 div.sk-parallel {\n",
       "  display: flex;\n",
       "  align-items: stretch;\n",
       "  justify-content: center;\n",
       "  background-color: var(--sklearn-color-background);\n",
       "  position: relative;\n",
       "}\n",
       "\n",
       "#sk-container-id-5 div.sk-parallel-item {\n",
       "  display: flex;\n",
       "  flex-direction: column;\n",
       "}\n",
       "\n",
       "#sk-container-id-5 div.sk-parallel-item:first-child::after {\n",
       "  align-self: flex-end;\n",
       "  width: 50%;\n",
       "}\n",
       "\n",
       "#sk-container-id-5 div.sk-parallel-item:last-child::after {\n",
       "  align-self: flex-start;\n",
       "  width: 50%;\n",
       "}\n",
       "\n",
       "#sk-container-id-5 div.sk-parallel-item:only-child::after {\n",
       "  width: 0;\n",
       "}\n",
       "\n",
       "/* Serial-specific style estimator block */\n",
       "\n",
       "#sk-container-id-5 div.sk-serial {\n",
       "  display: flex;\n",
       "  flex-direction: column;\n",
       "  align-items: center;\n",
       "  background-color: var(--sklearn-color-background);\n",
       "  padding-right: 1em;\n",
       "  padding-left: 1em;\n",
       "}\n",
       "\n",
       "\n",
       "/* Toggleable style: style used for estimator/Pipeline/ColumnTransformer box that is\n",
       "clickable and can be expanded/collapsed.\n",
       "- Pipeline and ColumnTransformer use this feature and define the default style\n",
       "- Estimators will overwrite some part of the style using the `sk-estimator` class\n",
       "*/\n",
       "\n",
       "/* Pipeline and ColumnTransformer style (default) */\n",
       "\n",
       "#sk-container-id-5 div.sk-toggleable {\n",
       "  /* Default theme specific background. It is overwritten whether we have a\n",
       "  specific estimator or a Pipeline/ColumnTransformer */\n",
       "  background-color: var(--sklearn-color-background);\n",
       "}\n",
       "\n",
       "/* Toggleable label */\n",
       "#sk-container-id-5 label.sk-toggleable__label {\n",
       "  cursor: pointer;\n",
       "  display: block;\n",
       "  width: 100%;\n",
       "  margin-bottom: 0;\n",
       "  padding: 0.5em;\n",
       "  box-sizing: border-box;\n",
       "  text-align: center;\n",
       "}\n",
       "\n",
       "#sk-container-id-5 label.sk-toggleable__label-arrow:before {\n",
       "  /* Arrow on the left of the label */\n",
       "  content: \"▸\";\n",
       "  float: left;\n",
       "  margin-right: 0.25em;\n",
       "  color: var(--sklearn-color-icon);\n",
       "}\n",
       "\n",
       "#sk-container-id-5 label.sk-toggleable__label-arrow:hover:before {\n",
       "  color: var(--sklearn-color-text);\n",
       "}\n",
       "\n",
       "/* Toggleable content - dropdown */\n",
       "\n",
       "#sk-container-id-5 div.sk-toggleable__content {\n",
       "  max-height: 0;\n",
       "  max-width: 0;\n",
       "  overflow: hidden;\n",
       "  text-align: left;\n",
       "  /* unfitted */\n",
       "  background-color: var(--sklearn-color-unfitted-level-0);\n",
       "}\n",
       "\n",
       "#sk-container-id-5 div.sk-toggleable__content.fitted {\n",
       "  /* fitted */\n",
       "  background-color: var(--sklearn-color-fitted-level-0);\n",
       "}\n",
       "\n",
       "#sk-container-id-5 div.sk-toggleable__content pre {\n",
       "  margin: 0.2em;\n",
       "  border-radius: 0.25em;\n",
       "  color: var(--sklearn-color-text);\n",
       "  /* unfitted */\n",
       "  background-color: var(--sklearn-color-unfitted-level-0);\n",
       "}\n",
       "\n",
       "#sk-container-id-5 div.sk-toggleable__content.fitted pre {\n",
       "  /* unfitted */\n",
       "  background-color: var(--sklearn-color-fitted-level-0);\n",
       "}\n",
       "\n",
       "#sk-container-id-5 input.sk-toggleable__control:checked~div.sk-toggleable__content {\n",
       "  /* Expand drop-down */\n",
       "  max-height: 200px;\n",
       "  max-width: 100%;\n",
       "  overflow: auto;\n",
       "}\n",
       "\n",
       "#sk-container-id-5 input.sk-toggleable__control:checked~label.sk-toggleable__label-arrow:before {\n",
       "  content: \"▾\";\n",
       "}\n",
       "\n",
       "/* Pipeline/ColumnTransformer-specific style */\n",
       "\n",
       "#sk-container-id-5 div.sk-label input.sk-toggleable__control:checked~label.sk-toggleable__label {\n",
       "  color: var(--sklearn-color-text);\n",
       "  background-color: var(--sklearn-color-unfitted-level-2);\n",
       "}\n",
       "\n",
       "#sk-container-id-5 div.sk-label.fitted input.sk-toggleable__control:checked~label.sk-toggleable__label {\n",
       "  background-color: var(--sklearn-color-fitted-level-2);\n",
       "}\n",
       "\n",
       "/* Estimator-specific style */\n",
       "\n",
       "/* Colorize estimator box */\n",
       "#sk-container-id-5 div.sk-estimator input.sk-toggleable__control:checked~label.sk-toggleable__label {\n",
       "  /* unfitted */\n",
       "  background-color: var(--sklearn-color-unfitted-level-2);\n",
       "}\n",
       "\n",
       "#sk-container-id-5 div.sk-estimator.fitted input.sk-toggleable__control:checked~label.sk-toggleable__label {\n",
       "  /* fitted */\n",
       "  background-color: var(--sklearn-color-fitted-level-2);\n",
       "}\n",
       "\n",
       "#sk-container-id-5 div.sk-label label.sk-toggleable__label,\n",
       "#sk-container-id-5 div.sk-label label {\n",
       "  /* The background is the default theme color */\n",
       "  color: var(--sklearn-color-text-on-default-background);\n",
       "}\n",
       "\n",
       "/* On hover, darken the color of the background */\n",
       "#sk-container-id-5 div.sk-label:hover label.sk-toggleable__label {\n",
       "  color: var(--sklearn-color-text);\n",
       "  background-color: var(--sklearn-color-unfitted-level-2);\n",
       "}\n",
       "\n",
       "/* Label box, darken color on hover, fitted */\n",
       "#sk-container-id-5 div.sk-label.fitted:hover label.sk-toggleable__label.fitted {\n",
       "  color: var(--sklearn-color-text);\n",
       "  background-color: var(--sklearn-color-fitted-level-2);\n",
       "}\n",
       "\n",
       "/* Estimator label */\n",
       "\n",
       "#sk-container-id-5 div.sk-label label {\n",
       "  font-family: monospace;\n",
       "  font-weight: bold;\n",
       "  display: inline-block;\n",
       "  line-height: 1.2em;\n",
       "}\n",
       "\n",
       "#sk-container-id-5 div.sk-label-container {\n",
       "  text-align: center;\n",
       "}\n",
       "\n",
       "/* Estimator-specific */\n",
       "#sk-container-id-5 div.sk-estimator {\n",
       "  font-family: monospace;\n",
       "  border: 1px dotted var(--sklearn-color-border-box);\n",
       "  border-radius: 0.25em;\n",
       "  box-sizing: border-box;\n",
       "  margin-bottom: 0.5em;\n",
       "  /* unfitted */\n",
       "  background-color: var(--sklearn-color-unfitted-level-0);\n",
       "}\n",
       "\n",
       "#sk-container-id-5 div.sk-estimator.fitted {\n",
       "  /* fitted */\n",
       "  background-color: var(--sklearn-color-fitted-level-0);\n",
       "}\n",
       "\n",
       "/* on hover */\n",
       "#sk-container-id-5 div.sk-estimator:hover {\n",
       "  /* unfitted */\n",
       "  background-color: var(--sklearn-color-unfitted-level-2);\n",
       "}\n",
       "\n",
       "#sk-container-id-5 div.sk-estimator.fitted:hover {\n",
       "  /* fitted */\n",
       "  background-color: var(--sklearn-color-fitted-level-2);\n",
       "}\n",
       "\n",
       "/* Specification for estimator info (e.g. \"i\" and \"?\") */\n",
       "\n",
       "/* Common style for \"i\" and \"?\" */\n",
       "\n",
       ".sk-estimator-doc-link,\n",
       "a:link.sk-estimator-doc-link,\n",
       "a:visited.sk-estimator-doc-link {\n",
       "  float: right;\n",
       "  font-size: smaller;\n",
       "  line-height: 1em;\n",
       "  font-family: monospace;\n",
       "  background-color: var(--sklearn-color-background);\n",
       "  border-radius: 1em;\n",
       "  height: 1em;\n",
       "  width: 1em;\n",
       "  text-decoration: none !important;\n",
       "  margin-left: 1ex;\n",
       "  /* unfitted */\n",
       "  border: var(--sklearn-color-unfitted-level-1) 1pt solid;\n",
       "  color: var(--sklearn-color-unfitted-level-1);\n",
       "}\n",
       "\n",
       ".sk-estimator-doc-link.fitted,\n",
       "a:link.sk-estimator-doc-link.fitted,\n",
       "a:visited.sk-estimator-doc-link.fitted {\n",
       "  /* fitted */\n",
       "  border: var(--sklearn-color-fitted-level-1) 1pt solid;\n",
       "  color: var(--sklearn-color-fitted-level-1);\n",
       "}\n",
       "\n",
       "/* On hover */\n",
       "div.sk-estimator:hover .sk-estimator-doc-link:hover,\n",
       ".sk-estimator-doc-link:hover,\n",
       "div.sk-label-container:hover .sk-estimator-doc-link:hover,\n",
       ".sk-estimator-doc-link:hover {\n",
       "  /* unfitted */\n",
       "  background-color: var(--sklearn-color-unfitted-level-3);\n",
       "  color: var(--sklearn-color-background);\n",
       "  text-decoration: none;\n",
       "}\n",
       "\n",
       "div.sk-estimator.fitted:hover .sk-estimator-doc-link.fitted:hover,\n",
       ".sk-estimator-doc-link.fitted:hover,\n",
       "div.sk-label-container:hover .sk-estimator-doc-link.fitted:hover,\n",
       ".sk-estimator-doc-link.fitted:hover {\n",
       "  /* fitted */\n",
       "  background-color: var(--sklearn-color-fitted-level-3);\n",
       "  color: var(--sklearn-color-background);\n",
       "  text-decoration: none;\n",
       "}\n",
       "\n",
       "/* Span, style for the box shown on hovering the info icon */\n",
       ".sk-estimator-doc-link span {\n",
       "  display: none;\n",
       "  z-index: 9999;\n",
       "  position: relative;\n",
       "  font-weight: normal;\n",
       "  right: .2ex;\n",
       "  padding: .5ex;\n",
       "  margin: .5ex;\n",
       "  width: min-content;\n",
       "  min-width: 20ex;\n",
       "  max-width: 50ex;\n",
       "  color: var(--sklearn-color-text);\n",
       "  box-shadow: 2pt 2pt 4pt #999;\n",
       "  /* unfitted */\n",
       "  background: var(--sklearn-color-unfitted-level-0);\n",
       "  border: .5pt solid var(--sklearn-color-unfitted-level-3);\n",
       "}\n",
       "\n",
       ".sk-estimator-doc-link.fitted span {\n",
       "  /* fitted */\n",
       "  background: var(--sklearn-color-fitted-level-0);\n",
       "  border: var(--sklearn-color-fitted-level-3);\n",
       "}\n",
       "\n",
       ".sk-estimator-doc-link:hover span {\n",
       "  display: block;\n",
       "}\n",
       "\n",
       "/* \"?\"-specific style due to the `<a>` HTML tag */\n",
       "\n",
       "#sk-container-id-5 a.estimator_doc_link {\n",
       "  float: right;\n",
       "  font-size: 1rem;\n",
       "  line-height: 1em;\n",
       "  font-family: monospace;\n",
       "  background-color: var(--sklearn-color-background);\n",
       "  border-radius: 1rem;\n",
       "  height: 1rem;\n",
       "  width: 1rem;\n",
       "  text-decoration: none;\n",
       "  /* unfitted */\n",
       "  color: var(--sklearn-color-unfitted-level-1);\n",
       "  border: var(--sklearn-color-unfitted-level-1) 1pt solid;\n",
       "}\n",
       "\n",
       "#sk-container-id-5 a.estimator_doc_link.fitted {\n",
       "  /* fitted */\n",
       "  border: var(--sklearn-color-fitted-level-1) 1pt solid;\n",
       "  color: var(--sklearn-color-fitted-level-1);\n",
       "}\n",
       "\n",
       "/* On hover */\n",
       "#sk-container-id-5 a.estimator_doc_link:hover {\n",
       "  /* unfitted */\n",
       "  background-color: var(--sklearn-color-unfitted-level-3);\n",
       "  color: var(--sklearn-color-background);\n",
       "  text-decoration: none;\n",
       "}\n",
       "\n",
       "#sk-container-id-5 a.estimator_doc_link.fitted:hover {\n",
       "  /* fitted */\n",
       "  background-color: var(--sklearn-color-fitted-level-3);\n",
       "}\n",
       "</style><div id=\"sk-container-id-5\" class=\"sk-top-container\"><div class=\"sk-text-repr-fallback\"><pre>LinearRegression()</pre><b>In a Jupyter environment, please rerun this cell to show the HTML representation or trust the notebook. <br />On GitHub, the HTML representation is unable to render, please try loading this page with nbviewer.org.</b></div><div class=\"sk-container\" hidden><div class=\"sk-item\"><div class=\"sk-estimator fitted sk-toggleable\"><input class=\"sk-toggleable__control sk-hidden--visually\" id=\"sk-estimator-id-5\" type=\"checkbox\" checked><label for=\"sk-estimator-id-5\" class=\"sk-toggleable__label fitted sk-toggleable__label-arrow fitted\">&nbsp;&nbsp;LinearRegression<a class=\"sk-estimator-doc-link fitted\" rel=\"noreferrer\" target=\"_blank\" href=\"https://scikit-learn.org/1.4/modules/generated/sklearn.linear_model.LinearRegression.html\">?<span>Documentation for LinearRegression</span></a><span class=\"sk-estimator-doc-link fitted\">i<span>Fitted</span></span></label><div class=\"sk-toggleable__content fitted\"><pre>LinearRegression()</pre></div> </div></div></div></div>"
      ],
      "text/plain": [
       "LinearRegression()"
      ]
     },
     "execution_count": 75,
     "metadata": {},
     "output_type": "execute_result"
    }
   ],
   "source": [
    "model.fit(x_train, y_train)"
   ]
  },
  {
   "cell_type": "markdown",
   "id": "12bd319d-9639-4034-92d0-67017ad07ff6",
   "metadata": {},
   "source": [
    "#### Evaluasi model"
   ]
  },
  {
   "cell_type": "code",
   "execution_count": 76,
   "id": "fa0c78e7-5573-40b1-b236-b626a7cb1a2f",
   "metadata": {},
   "outputs": [],
   "source": [
    "predict = model.predict(x_test)"
   ]
  },
  {
   "cell_type": "code",
   "execution_count": 77,
   "id": "ae93ffff-7bab-41c7-851e-b3664519cb1d",
   "metadata": {},
   "outputs": [
    {
     "data": {
      "text/plain": [
       "array([1.13821199e+08, 2.34563920e+08, 9.12229157e+07, 2.39778357e+08,\n",
       "       1.94666130e+08, 2.35078416e+08, 1.50711977e+08, 1.71829670e+08,\n",
       "       1.49965138e+08, 2.33964608e+08, 1.53806711e+08, 1.62102217e+08,\n",
       "       1.65699367e+08, 1.25047506e+08, 1.25538091e+08, 1.68641264e+08,\n",
       "       1.90467553e+08, 1.49542496e+08, 1.41790487e+08, 2.09721815e+08,\n",
       "       2.07477601e+08, 5.80029523e+07, 1.30967185e+08, 2.28421038e+08,\n",
       "       1.54757187e+08, 1.66185475e+08, 1.93337995e+08, 2.09122503e+08,\n",
       "       1.81985914e+08, 1.96582987e+08, 1.78920543e+08, 1.65459830e+08,\n",
       "       2.34056242e+08, 1.19817589e+08, 1.19218276e+08, 2.34015567e+08,\n",
       "       1.82054777e+08, 2.43294752e+08, 1.57893939e+08, 1.72566202e+08,\n",
       "       1.37383054e+08, 1.91066865e+08, 1.06900557e+08, 2.34842322e+08,\n",
       "       1.03185222e+08, 1.43781562e+08, 1.84231828e+08, 2.05337867e+08,\n",
       "       1.79219589e+08, 1.55036891e+08, 1.84509560e+08, 1.12627773e+08,\n",
       "       2.28206504e+08, 1.66896912e+08, 1.77447238e+08, 2.07514006e+08,\n",
       "       1.19331562e+08, 1.78963777e+08, 1.66556673e+08, 1.82609213e+08,\n",
       "       1.71317107e+08, 6.98582767e+07, 2.30389441e+08, 1.29093972e+08,\n",
       "       1.77226862e+08, 2.31650592e+08, 1.31929411e+08, 1.63679536e+08,\n",
       "       1.99872013e+08, 1.04239020e+08, 2.37036734e+08, 9.39692886e+07,\n",
       "       1.46963539e+08, 1.68865003e+08, 9.75435923e+07, 1.21762225e+08,\n",
       "       1.83966188e+08, 1.32147960e+08, 1.19453761e+08, 1.62190525e+08,\n",
       "       9.12229157e+07, 2.33496429e+08, 1.68571878e+08, 8.41396932e+07,\n",
       "       1.84568369e+08, 1.45531082e+08, 1.93767818e+08, 1.60372689e+08,\n",
       "       9.11217546e+07, 1.71397040e+08, 2.22758634e+08, 1.31016738e+08,\n",
       "       2.17045034e+08, 1.47273567e+08, 1.04145139e+08, 1.05565783e+08,\n",
       "       1.36266515e+08, 2.38259318e+08, 1.25032151e+08, 1.23203391e+08,\n",
       "       1.26508405e+08, 1.93204488e+08, 1.30660670e+08, 2.26573451e+08,\n",
       "       1.85525005e+08, 2.19909308e+08, 1.85231211e+08, 1.76847925e+08,\n",
       "       1.46830140e+08, 1.62489751e+08, 1.67691109e+08, 2.29460934e+08,\n",
       "       2.37436247e+08, 1.58960467e+08, 1.31519174e+08, 1.10813277e+08,\n",
       "       2.34262545e+08, 1.11207430e+08, 1.36245472e+08, 1.17651510e+08,\n",
       "       2.24429567e+08, 2.17929802e+08, 2.08098811e+08, 1.27316736e+08,\n",
       "       1.38601176e+08, 1.86586238e+08, 1.59976867e+08, 1.39292168e+08,\n",
       "       2.20285547e+08])"
      ]
     },
     "execution_count": 77,
     "metadata": {},
     "output_type": "execute_result"
    }
   ],
   "source": [
    "predict"
   ]
  },
  {
   "cell_type": "code",
   "execution_count": 80,
   "id": "f95fa4f2-a26e-4ebe-9103-ba8029b5ee74",
   "metadata": {},
   "outputs": [
    {
     "name": "stdout",
     "output_type": "stream",
     "text": [
      "R squared error :  0.8524751581108289\n"
     ]
    }
   ],
   "source": [
    "# mencari nilai R squared error\n",
    "error_score = metrics.r2_score(y_test, predict)\n",
    "print(\"R squared error : \", error_score)"
   ]
  },
  {
   "cell_type": "code",
   "execution_count": 82,
   "id": "3d4317b4-d814-48f9-83d9-7978d6dab22f",
   "metadata": {},
   "outputs": [
    {
     "data": {
      "image/png": "[encoded data removed]",
      "text/plain": [
       "<Figure size 640x480 with 1 Axes>"
      ]
     },
     "metadata": {},
     "output_type": "display_data"
    }
   ],
   "source": [
    "# visualisasi harga aktual vs harga prediksi\n",
    "plt.scatter(y_test, predict, label='Data points')\n",
    "\n",
    "m, b = np.polyfit(y_test, predict, 1)\n",
    "plt.plot(y_test, m*y_test + b, color='black', label='Regression line')\n",
    "\n",
    "plt.xlabel(\"Harga aktual\")\n",
    "plt.ylabel(\"Harga prediksi\")\n",
    "plt.title(\"Harga aktual vs Harga prediksi\")\n",
    "plt.legend()\n",
    "\n",
    "plt.show()"
   ]
  },
  {
   "cell_type": "code",
   "execution_count": 83,
   "id": "95abe4a5-5320-40ae-b5a1-bdabb319d8aa",
   "metadata": {},
   "outputs": [
    {
     "data": {
      "text/html": [
       "<div>\n",
       "<style scoped>\n",
       "    .dataframe tbody tr th:only-of-type {\n",
       "        vertical-align: middle;\n",
       "    }\n",
       "\n",
       "    .dataframe tbody tr th {\n",
       "        vertical-align: top;\n",
       "    }\n",
       "\n",
       "    .dataframe thead th {\n",
       "        text-align: right;\n",
       "    }\n",
       "</style>\n",
       "<table border=\"1\" class=\"dataframe\">\n",
       "  <thead>\n",
       "    <tr style=\"text-align: right;\">\n",
       "      <th></th>\n",
       "      <th>name</th>\n",
       "      <th>year</th>\n",
       "      <th>km_driven</th>\n",
       "      <th>fuel</th>\n",
       "      <th>seller_type</th>\n",
       "      <th>transmission</th>\n",
       "      <th>engine</th>\n",
       "      <th>tax</th>\n",
       "    </tr>\n",
       "  </thead>\n",
       "  <tbody>\n",
       "    <tr>\n",
       "      <th>620</th>\n",
       "      <td>11</td>\n",
       "      <td>2019</td>\n",
       "      <td>96000</td>\n",
       "      <td>1</td>\n",
       "      <td>1</td>\n",
       "      <td>2</td>\n",
       "      <td>1500</td>\n",
       "      <td>2024</td>\n",
       "    </tr>\n",
       "  </tbody>\n",
       "</table>\n",
       "</div>"
      ],
      "text/plain": [
       "     name  year  km_driven  fuel  seller_type  transmission  engine   tax\n",
       "620    11  2019      96000     1            1             2    1500  2024"
      ]
     },
     "execution_count": 83,
     "metadata": {},
     "output_type": "execute_result"
    }
   ],
   "source": [
    "x_train.head(1)"
   ]
  },
  {
   "cell_type": "code",
   "execution_count": 84,
   "id": "5fe11fba-6100-4756-859b-90aa1fa3bde1",
   "metadata": {},
   "outputs": [],
   "source": [
    "input_data_model = pd.DataFrame(\n",
    "    [[11,2019,96000,1,1,2,1500,2024]],\n",
    "    columns=['name','year','km_driven','fuel','seller_type','transmission', 'engine', 'tax'])"
   ]
  },
  {
   "cell_type": "code",
   "execution_count": 85,
   "id": "1e8d15d4-d0fb-4b97-83a8-d972306542c6",
   "metadata": {},
   "outputs": [
    {
     "data": {
      "text/html": [
       "<div>\n",
       "<style scoped>\n",
       "    .dataframe tbody tr th:only-of-type {\n",
       "        vertical-align: middle;\n",
       "    }\n",
       "\n",
       "    .dataframe tbody tr th {\n",
       "        vertical-align: top;\n",
       "    }\n",
       "\n",
       "    .dataframe thead th {\n",
       "        text-align: right;\n",
       "    }\n",
       "</style>\n",
       "<table border=\"1\" class=\"dataframe\">\n",
       "  <thead>\n",
       "    <tr style=\"text-align: right;\">\n",
       "      <th></th>\n",
       "      <th>name</th>\n",
       "      <th>year</th>\n",
       "      <th>km_driven</th>\n",
       "      <th>fuel</th>\n",
       "      <th>seller_type</th>\n",
       "      <th>transmission</th>\n",
       "      <th>engine</th>\n",
       "      <th>tax</th>\n",
       "    </tr>\n",
       "  </thead>\n",
       "  <tbody>\n",
       "    <tr>\n",
       "      <th>0</th>\n",
       "      <td>11</td>\n",
       "      <td>2019</td>\n",
       "      <td>96000</td>\n",
       "      <td>1</td>\n",
       "      <td>1</td>\n",
       "      <td>2</td>\n",
       "      <td>1500</td>\n",
       "      <td>2024</td>\n",
       "    </tr>\n",
       "  </tbody>\n",
       "</table>\n",
       "</div>"
      ],
      "text/plain": [
       "   name  year  km_driven  fuel  seller_type  transmission  engine   tax\n",
       "0    11  2019      96000     1            1             2    1500  2024"
      ]
     },
     "execution_count": 85,
     "metadata": {},
     "output_type": "execute_result"
    }
   ],
   "source": [
    "input_data_model"
   ]
  },
  {
   "cell_type": "code",
   "execution_count": 86,
   "id": "4428a163-f09e-4e2e-a463-7f697295dc05",
   "metadata": {},
   "outputs": [
    {
     "data": {
      "text/plain": [
       "array([1.78966649e+08])"
      ]
     },
     "execution_count": 86,
     "metadata": {},
     "output_type": "execute_result"
    }
   ],
   "source": [
    "model.predict(input_data_model)"
   ]
  },
  {
   "cell_type": "markdown",
   "id": "54f2ad75-2714-4e70-8cf4-37e98b3ba5be",
   "metadata": {},
   "source": [
    "#### Impor dependensi Pickle untuk serialisasi objek"
   ]
  },
  {
   "cell_type": "code",
   "execution_count": 87,
   "id": "16725c90-ce92-4376-bd84-998c310357a1",
   "metadata": {},
   "outputs": [],
   "source": [
    "import pickle as pk"
   ]
  },
  {
   "cell_type": "code",
   "execution_count": 88,
   "id": "e97851e3-db46-43fb-9758-19c473ce9709",
   "metadata": {},
   "outputs": [],
   "source": [
    "pk.dump(model,open('model.pkl','wb'))"
   ]
  }
 ],
 "metadata": {
  "kernelspec": {
   "display_name": "Python 3 (ipykernel)",
   "language": "python",
   "name": "python3"
  },
  "language_info": {
   "codemirror_mode": {
    "name": "ipython",
    "version": 3
   },
   "file_extension": ".py",
   "mimetype": "text/x-python",
   "name": "python",
   "nbconvert_exporter": "python",
   "pygments_lexer": "ipython3",
   "version": "3.11.4"
  }
 },
 "nbformat": 4,
 "nbformat_minor": 5
}
